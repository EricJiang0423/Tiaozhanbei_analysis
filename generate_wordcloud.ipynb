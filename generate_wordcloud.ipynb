{
 "cells": [
  {
   "attachments": {},
   "cell_type": "markdown",
   "metadata": {},
   "source": [
    "# 生成标题词云"
   ]
  },
  {
   "cell_type": "code",
   "execution_count": 154,
   "metadata": {},
   "outputs": [],
   "source": [
    "import jieba\n",
    "import pandas as pd\n",
    "import wordcloud as wcd\n",
    "# 导入相关库"
   ]
  },
  {
   "cell_type": "code",
   "execution_count": 155,
   "metadata": {},
   "outputs": [
    {
     "data": {
      "text/html": [
       "<div>\n",
       "<style scoped>\n",
       "    .dataframe tbody tr th:only-of-type {\n",
       "        vertical-align: middle;\n",
       "    }\n",
       "\n",
       "    .dataframe tbody tr th {\n",
       "        vertical-align: top;\n",
       "    }\n",
       "\n",
       "    .dataframe thead th {\n",
       "        text-align: right;\n",
       "    }\n",
       "</style>\n",
       "<table border=\"1\" class=\"dataframe\">\n",
       "  <thead>\n",
       "    <tr style=\"text-align: right;\">\n",
       "      <th></th>\n",
       "      <th>Name</th>\n",
       "      <th>Prize</th>\n",
       "      <th>Uni</th>\n",
       "    </tr>\n",
       "  </thead>\n",
       "  <tbody>\n",
       "    <tr>\n",
       "      <th>0</th>\n",
       "      <td>聚合物分散与稳定液晶共存体系的构筑及特种液晶调光膜的制备技术</td>\n",
       "      <td>2</td>\n",
       "      <td>北京大学</td>\n",
       "    </tr>\n",
       "    <tr>\n",
       "      <th>1</th>\n",
       "      <td>互联网视域下的宗教信仰传播——以新兴宗教“心灵法门”在东南沿海民间的发展为例</td>\n",
       "      <td>2</td>\n",
       "      <td>北京大学</td>\n",
       "    </tr>\n",
       "    <tr>\n",
       "      <th>2</th>\n",
       "      <td>“于无声处听惊雷”多元视阈下“邻避效应”解决途径与风险管控方式研究</td>\n",
       "      <td>3</td>\n",
       "      <td>北京大学</td>\n",
       "    </tr>\n",
       "  </tbody>\n",
       "</table>\n",
       "</div>"
      ],
      "text/plain": [
       "                                     Name Prize   Uni\n",
       "0          聚合物分散与稳定液晶共存体系的构筑及特种液晶调光膜的制备技术     2  北京大学\n",
       "1  互联网视域下的宗教信仰传播——以新兴宗教“心灵法门”在东南沿海民间的发展为例     2  北京大学\n",
       "2       “于无声处听惊雷”多元视阈下“邻避效应”解决途径与风险管控方式研究     3  北京大学"
      ]
     },
     "execution_count": 155,
     "metadata": {},
     "output_type": "execute_result"
    }
   ],
   "source": [
    "df15 = pd.read_csv(\"Dataset/15.csv\",encoding='utf_8_sig')\n",
    "df16 = pd.read_csv(\"Dataset/16.csv\",encoding='utf_8_sig')\n",
    "df17 = pd.read_csv(\"Dataset/17.csv\",encoding='utf_8_sig')\n",
    "df_combine = pd.concat([df15,df16,df17])\n",
    "df15.head(3)\n",
    "#读入所有数据"
   ]
  },
  {
   "cell_type": "code",
   "execution_count": 156,
   "metadata": {},
   "outputs": [],
   "source": [
    "def tcg(texts):\n",
    "    cut = jieba.cut(texts)\n",
    "    string = ' '.join(cut)\n",
    "    return string\n",
    "# 把输入的标题切成空格分割的词"
   ]
  },
  {
   "cell_type": "code",
   "execution_count": 157,
   "metadata": {},
   "outputs": [
    {
     "data": {
      "text/html": [
       "<div>\n",
       "<style scoped>\n",
       "    .dataframe tbody tr th:only-of-type {\n",
       "        vertical-align: middle;\n",
       "    }\n",
       "\n",
       "    .dataframe tbody tr th {\n",
       "        vertical-align: top;\n",
       "    }\n",
       "\n",
       "    .dataframe thead th {\n",
       "        text-align: right;\n",
       "    }\n",
       "</style>\n",
       "<table border=\"1\" class=\"dataframe\">\n",
       "  <thead>\n",
       "    <tr style=\"text-align: right;\">\n",
       "      <th></th>\n",
       "      <th>Name</th>\n",
       "      <th>Prize</th>\n",
       "      <th>Uni</th>\n",
       "    </tr>\n",
       "  </thead>\n",
       "  <tbody>\n",
       "    <tr>\n",
       "      <th>0</th>\n",
       "      <td>“劳动开创未来”：新时代中国大学生劳动教育现状与路径优化研究——基于全国105所高校的实证调查</td>\n",
       "      <td>0</td>\n",
       "      <td>浙江师范大学</td>\n",
       "    </tr>\n",
       "    <tr>\n",
       "      <th>1</th>\n",
       "      <td>仿生有序交联碳化钛的制备及性能研究</td>\n",
       "      <td>0</td>\n",
       "      <td>北京航空航天大学</td>\n",
       "    </tr>\n",
       "    <tr>\n",
       "      <th>2</th>\n",
       "      <td>低碾压智能化再生稻收获技术与装备</td>\n",
       "      <td>0</td>\n",
       "      <td>江苏大学</td>\n",
       "    </tr>\n",
       "  </tbody>\n",
       "</table>\n",
       "</div>"
      ],
      "text/plain": [
       "                                              Name  Prize       Uni\n",
       "0  “劳动开创未来”：新时代中国大学生劳动教育现状与路径优化研究——基于全国105所高校的实证调查      0    浙江师范大学\n",
       "1                                仿生有序交联碳化钛的制备及性能研究      0  北京航空航天大学\n",
       "2                                 低碾压智能化再生稻收获技术与装备      0      江苏大学"
      ]
     },
     "execution_count": 157,
     "metadata": {},
     "output_type": "execute_result"
    }
   ],
   "source": [
    "# 选择想分析的Dataframe\n",
    "df = df_combine\n",
    "df.head(3)"
   ]
  },
  {
   "cell_type": "code",
   "execution_count": 158,
   "metadata": {},
   "outputs": [
    {
     "data": {
      "text/html": [
       "<div>\n",
       "<style scoped>\n",
       "    .dataframe tbody tr th:only-of-type {\n",
       "        vertical-align: middle;\n",
       "    }\n",
       "\n",
       "    .dataframe tbody tr th {\n",
       "        vertical-align: top;\n",
       "    }\n",
       "\n",
       "    .dataframe thead th {\n",
       "        text-align: right;\n",
       "    }\n",
       "</style>\n",
       "<table border=\"1\" class=\"dataframe\">\n",
       "  <thead>\n",
       "    <tr style=\"text-align: right;\">\n",
       "      <th></th>\n",
       "      <th>Name</th>\n",
       "      <th>Prize</th>\n",
       "      <th>Uni</th>\n",
       "    </tr>\n",
       "  </thead>\n",
       "  <tbody>\n",
       "    <tr>\n",
       "      <th>0</th>\n",
       "      <td>自由贸易区何以助推数字经济发展？——基于中韩（盐城）产业园的调研</td>\n",
       "      <td>0</td>\n",
       "      <td>南京师范大学</td>\n",
       "    </tr>\n",
       "    <tr>\n",
       "      <th>1</th>\n",
       "      <td>“生之鲜道”：乡村振兴背景下生鲜电商进阶之路研究——疫情冲击下山西省太原市消费者角度的观察</td>\n",
       "      <td>2</td>\n",
       "      <td>山西财经大学</td>\n",
       "    </tr>\n",
       "    <tr>\n",
       "      <th>2</th>\n",
       "      <td>后扶贫时代：农村电商“生态圈”的生成演化机制——基于山东曹县大集镇“淘宝村”的案例研究</td>\n",
       "      <td>3</td>\n",
       "      <td>齐鲁工业大学（山东省科学院）</td>\n",
       "    </tr>\n",
       "    <tr>\n",
       "      <th>3</th>\n",
       "      <td>数字经济时代生产者与电商平台商业模式博弈的法律分析——以拼多多与特斯拉“大战”为例</td>\n",
       "      <td>3</td>\n",
       "      <td>浙江理工大学</td>\n",
       "    </tr>\n",
       "  </tbody>\n",
       "</table>\n",
       "</div>"
      ],
      "text/plain": [
       "                                            Name  Prize             Uni\n",
       "0               自由贸易区何以助推数字经济发展？——基于中韩（盐城）产业园的调研      0          南京师范大学\n",
       "1  “生之鲜道”：乡村振兴背景下生鲜电商进阶之路研究——疫情冲击下山西省太原市消费者角度的观察      2          山西财经大学\n",
       "2    后扶贫时代：农村电商“生态圈”的生成演化机制——基于山东曹县大集镇“淘宝村”的案例研究      3  齐鲁工业大学（山东省科学院）\n",
       "3      数字经济时代生产者与电商平台商业模式博弈的法律分析——以拼多多与特斯拉“大战”为例      3          浙江理工大学"
      ]
     },
     "execution_count": 158,
     "metadata": {},
     "output_type": "execute_result"
    }
   ],
   "source": [
    "str=\"\"\n",
    "d_answer=pd.DataFrame(columns=[\"Name\",\"Prize\",\"Uni\"])\n",
    "key_set = [\"跨境\",\"校企\",\"双创\",\"产教\",\"电商\",\"贸易\"]\n",
    "for index,row in df.iterrows():\n",
    "    flag = False\n",
    "    for s in key_set:\n",
    "        if s in row.Name:\n",
    "            flag=True\n",
    "    if flag==True:\n",
    "        d_answer.loc[len(d_answer.index)] = [row.Name,row.Prize,row.Uni]\n",
    "        str =str + ' ' + tcg(row.Name)\n",
    "d_answer"
   ]
  },
  {
   "cell_type": "code",
   "execution_count": 159,
   "metadata": {},
   "outputs": [],
   "source": [
    "stopwords = set()\n",
    "content = [line.strip() for line in open('hit_stopwords.txt','r').readlines()]\n",
    "stopwords.update(content)\n",
    "stopwords.update(key_set)\n",
    "#停用词"
   ]
  },
  {
   "cell_type": "code",
   "execution_count": 160,
   "metadata": {},
   "outputs": [
    {
     "data": {
      "text/plain": [
       "<wordcloud.wordcloud.WordCloud at 0x13c604d2c10>"
      ]
     },
     "execution_count": 160,
     "metadata": {},
     "output_type": "execute_result"
    }
   ],
   "source": [
    "wc = wcd.WordCloud(\n",
    "    background_color='white',\n",
    "    width=1000,\n",
    "    height=800,\n",
    "    stopwords=stopwords,\n",
    "    font_path=\"msyh.ttc\"\n",
    ")\n",
    "wc.generate_from_text(str)#绘制图片\n",
    "wc.to_file('wordcloud.png')"
   ]
  },
  {
   "cell_type": "code",
   "execution_count": null,
   "metadata": {},
   "outputs": [],
   "source": []
  }
 ],
 "metadata": {
  "kernelspec": {
   "display_name": "base",
   "language": "python",
   "name": "python3"
  },
  "language_info": {
   "codemirror_mode": {
    "name": "ipython",
    "version": 3
   },
   "file_extension": ".py",
   "mimetype": "text/x-python",
   "name": "python",
   "nbconvert_exporter": "python",
   "pygments_lexer": "ipython3",
   "version": "3.9.13"
  },
  "orig_nbformat": 4,
  "vscode": {
   "interpreter": {
    "hash": "9b43f295cc4b9d5d3a590d55b2f702ca7727d2dff70ed9cae74eb77f96a47717"
   }
  }
 },
 "nbformat": 4,
 "nbformat_minor": 2
}
