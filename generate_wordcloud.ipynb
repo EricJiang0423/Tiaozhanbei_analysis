{
 "cells": [
  {
   "attachments": {},
   "cell_type": "markdown",
   "metadata": {},
   "source": [
    "# 生成标题词云"
   ]
  },
  {
   "cell_type": "code",
   "execution_count": 25,
   "metadata": {},
   "outputs": [],
   "source": [
    "import jieba\n",
    "import pandas as pd\n",
    "import wordcloud as wcd\n",
    "# 导入相关库"
   ]
  },
  {
   "cell_type": "code",
   "execution_count": 26,
   "metadata": {},
   "outputs": [
    {
     "data": {
      "text/html": [
       "<div>\n",
       "<style scoped>\n",
       "    .dataframe tbody tr th:only-of-type {\n",
       "        vertical-align: middle;\n",
       "    }\n",
       "\n",
       "    .dataframe tbody tr th {\n",
       "        vertical-align: top;\n",
       "    }\n",
       "\n",
       "    .dataframe thead th {\n",
       "        text-align: right;\n",
       "    }\n",
       "</style>\n",
       "<table border=\"1\" class=\"dataframe\">\n",
       "  <thead>\n",
       "    <tr style=\"text-align: right;\">\n",
       "      <th></th>\n",
       "      <th>Name</th>\n",
       "      <th>Prize</th>\n",
       "      <th>Uni</th>\n",
       "    </tr>\n",
       "  </thead>\n",
       "  <tbody>\n",
       "    <tr>\n",
       "      <th>0</th>\n",
       "      <td>聚合物分散与稳定液晶共存体系的构筑及特种液晶调光膜的制备技术</td>\n",
       "      <td>2</td>\n",
       "      <td>北京大学</td>\n",
       "    </tr>\n",
       "    <tr>\n",
       "      <th>1</th>\n",
       "      <td>互联网视域下的宗教信仰传播——以新兴宗教“心灵法门”在东南沿海民间的发展为例</td>\n",
       "      <td>2</td>\n",
       "      <td>北京大学</td>\n",
       "    </tr>\n",
       "    <tr>\n",
       "      <th>2</th>\n",
       "      <td>“于无声处听惊雷”多元视阈下“邻避效应”解决途径与风险管控方式研究</td>\n",
       "      <td>3</td>\n",
       "      <td>北京大学</td>\n",
       "    </tr>\n",
       "  </tbody>\n",
       "</table>\n",
       "</div>"
      ],
      "text/plain": [
       "                                     Name Prize   Uni\n",
       "0          聚合物分散与稳定液晶共存体系的构筑及特种液晶调光膜的制备技术     2  北京大学\n",
       "1  互联网视域下的宗教信仰传播——以新兴宗教“心灵法门”在东南沿海民间的发展为例     2  北京大学\n",
       "2       “于无声处听惊雷”多元视阈下“邻避效应”解决途径与风险管控方式研究     3  北京大学"
      ]
     },
     "execution_count": 26,
     "metadata": {},
     "output_type": "execute_result"
    }
   ],
   "source": [
    "df15 = pd.read_csv(\"Dataset/15.csv\",encoding='utf_8_sig')\n",
    "df16 = pd.read_csv(\"Dataset/16.csv\",encoding='utf_8_sig')\n",
    "df17 = pd.read_csv(\"Dataset/17.csv\",encoding='utf_8_sig')\n",
    "df_combine = pd.concat([df15,df16,df17])\n",
    "df15.head(3)\n",
    "#读入所有数据"
   ]
  },
  {
   "cell_type": "code",
   "execution_count": 27,
   "metadata": {},
   "outputs": [],
   "source": [
    "def tcg(texts):\n",
    "    cut = jieba.cut(texts)\n",
    "    string = ' '.join(cut)\n",
    "    return string\n",
    "# 把输入的标题切成空格分割的词"
   ]
  },
  {
   "cell_type": "code",
   "execution_count": 28,
   "metadata": {},
   "outputs": [
    {
     "data": {
      "text/html": [
       "<div>\n",
       "<style scoped>\n",
       "    .dataframe tbody tr th:only-of-type {\n",
       "        vertical-align: middle;\n",
       "    }\n",
       "\n",
       "    .dataframe tbody tr th {\n",
       "        vertical-align: top;\n",
       "    }\n",
       "\n",
       "    .dataframe thead th {\n",
       "        text-align: right;\n",
       "    }\n",
       "</style>\n",
       "<table border=\"1\" class=\"dataframe\">\n",
       "  <thead>\n",
       "    <tr style=\"text-align: right;\">\n",
       "      <th></th>\n",
       "      <th>Name</th>\n",
       "      <th>Prize</th>\n",
       "      <th>Uni</th>\n",
       "    </tr>\n",
       "  </thead>\n",
       "  <tbody>\n",
       "    <tr>\n",
       "      <th>0</th>\n",
       "      <td>聚合物分散与稳定液晶共存体系的构筑及特种液晶调光膜的制备技术</td>\n",
       "      <td>2</td>\n",
       "      <td>北京大学</td>\n",
       "    </tr>\n",
       "    <tr>\n",
       "      <th>1</th>\n",
       "      <td>互联网视域下的宗教信仰传播——以新兴宗教“心灵法门”在东南沿海民间的发展为例</td>\n",
       "      <td>2</td>\n",
       "      <td>北京大学</td>\n",
       "    </tr>\n",
       "    <tr>\n",
       "      <th>2</th>\n",
       "      <td>“于无声处听惊雷”多元视阈下“邻避效应”解决途径与风险管控方式研究</td>\n",
       "      <td>3</td>\n",
       "      <td>北京大学</td>\n",
       "    </tr>\n",
       "  </tbody>\n",
       "</table>\n",
       "</div>"
      ],
      "text/plain": [
       "                                     Name Prize   Uni\n",
       "0          聚合物分散与稳定液晶共存体系的构筑及特种液晶调光膜的制备技术     2  北京大学\n",
       "1  互联网视域下的宗教信仰传播——以新兴宗教“心灵法门”在东南沿海民间的发展为例     2  北京大学\n",
       "2       “于无声处听惊雷”多元视阈下“邻避效应”解决途径与风险管控方式研究     3  北京大学"
      ]
     },
     "execution_count": 28,
     "metadata": {},
     "output_type": "execute_result"
    }
   ],
   "source": [
    "# 选择想分析的Dataframe\n",
    "df = df_combine\n",
    "df.head(3)"
   ]
  },
  {
   "cell_type": "code",
   "execution_count": 29,
   "metadata": {},
   "outputs": [
    {
     "data": {
      "text/html": [
       "<div>\n",
       "<style scoped>\n",
       "    .dataframe tbody tr th:only-of-type {\n",
       "        vertical-align: middle;\n",
       "    }\n",
       "\n",
       "    .dataframe tbody tr th {\n",
       "        vertical-align: top;\n",
       "    }\n",
       "\n",
       "    .dataframe thead th {\n",
       "        text-align: right;\n",
       "    }\n",
       "</style>\n",
       "<table border=\"1\" class=\"dataframe\">\n",
       "  <thead>\n",
       "    <tr style=\"text-align: right;\">\n",
       "      <th></th>\n",
       "      <th>Name</th>\n",
       "      <th>Prize</th>\n",
       "      <th>Uni</th>\n",
       "    </tr>\n",
       "  </thead>\n",
       "  <tbody>\n",
       "    <tr>\n",
       "      <th>0</th>\n",
       "      <td>基于大数据及语言模型的电子文本检错技术</td>\n",
       "      <td>0</td>\n",
       "      <td>清华大学</td>\n",
       "    </tr>\n",
       "    <tr>\n",
       "      <th>1</th>\n",
       "      <td>一种柔性快充锂金属电池</td>\n",
       "      <td>0</td>\n",
       "      <td>清华大学</td>\n",
       "    </tr>\n",
       "    <tr>\n",
       "      <th>2</th>\n",
       "      <td>留守与流动：流动务工人员子女更可能走向“阶层再生产”吗？--基于福建泉州部分中小学的比较研究</td>\n",
       "      <td>1</td>\n",
       "      <td>清华大学</td>\n",
       "    </tr>\n",
       "    <tr>\n",
       "      <th>3</th>\n",
       "      <td>北京旧城胡同We空间——东四南历史文化保护区胡同微空间营造</td>\n",
       "      <td>1</td>\n",
       "      <td>北京工业大学</td>\n",
       "    </tr>\n",
       "    <tr>\n",
       "      <th>4</th>\n",
       "      <td>利用仿生思想优化现有技术的实例</td>\n",
       "      <td>0</td>\n",
       "      <td>北京航空航天大学</td>\n",
       "    </tr>\n",
       "    <tr>\n",
       "      <th>...</th>\n",
       "      <td>...</td>\n",
       "      <td>...</td>\n",
       "      <td>...</td>\n",
       "    </tr>\n",
       "    <tr>\n",
       "      <th>434</th>\n",
       "      <td>城有所治，车有所栖——智慧城市视域下“时间+空间”社区共享停车模式研究</td>\n",
       "      <td>1</td>\n",
       "      <td>长安大学</td>\n",
       "    </tr>\n",
       "    <tr>\n",
       "      <th>435</th>\n",
       "      <td>从高冷走向大众：甲骨文活化利用路径优化研究</td>\n",
       "      <td>1</td>\n",
       "      <td>安阳师范学院</td>\n",
       "    </tr>\n",
       "    <tr>\n",
       "      <th>436</th>\n",
       "      <td>共同富裕视阈下艺术赋能乡村建设研究——基于浙江省11市106村的实证分析</td>\n",
       "      <td>1</td>\n",
       "      <td>浙江师范大学</td>\n",
       "    </tr>\n",
       "    <tr>\n",
       "      <th>437</th>\n",
       "      <td>易扶搬迁促就业乡村振兴谋幸福——基于秦巴山区4县1区3015户易地扶贫搬迁的实证调研</td>\n",
       "      <td>1</td>\n",
       "      <td>西安理工大学</td>\n",
       "    </tr>\n",
       "    <tr>\n",
       "      <th>438</th>\n",
       "      <td>生态把脉——基于多源感知数据的城市生态空间体检研究</td>\n",
       "      <td>1</td>\n",
       "      <td>北京工业大学</td>\n",
       "    </tr>\n",
       "  </tbody>\n",
       "</table>\n",
       "<p>439 rows × 3 columns</p>\n",
       "</div>"
      ],
      "text/plain": [
       "                                               Name Prize       Uni\n",
       "0                               基于大数据及语言模型的电子文本检错技术     0      清华大学\n",
       "1                                       一种柔性快充锂金属电池     0      清华大学\n",
       "2    留守与流动：流动务工人员子女更可能走向“阶层再生产”吗？--基于福建泉州部分中小学的比较研究     1      清华大学\n",
       "3                     北京旧城胡同We空间——东四南历史文化保护区胡同微空间营造     1    北京工业大学\n",
       "4                                   利用仿生思想优化现有技术的实例     0  北京航空航天大学\n",
       "..                                              ...   ...       ...\n",
       "434             城有所治，车有所栖——智慧城市视域下“时间+空间”社区共享停车模式研究     1      长安大学\n",
       "435                           从高冷走向大众：甲骨文活化利用路径优化研究     1    安阳师范学院\n",
       "436            共同富裕视阈下艺术赋能乡村建设研究——基于浙江省11市106村的实证分析     1    浙江师范大学\n",
       "437      易扶搬迁促就业乡村振兴谋幸福——基于秦巴山区4县1区3015户易地扶贫搬迁的实证调研     1    西安理工大学\n",
       "438                       生态把脉——基于多源感知数据的城市生态空间体检研究     1    北京工业大学\n",
       "\n",
       "[439 rows x 3 columns]"
      ]
     },
     "execution_count": 29,
     "metadata": {},
     "output_type": "execute_result"
    }
   ],
   "source": [
    "str=\"\"\n",
    "d_answer=pd.DataFrame(columns=[\"Name\",\"Prize\",\"Uni\"])\n",
    "#key_set = [\"跨境\",\"校企\",\"双创\",\"产教\",\"电商\",\"贸易\"]\n",
    "#key_set = [\"跨境\",\"校企\",\"双创\",\"产教\",\"电商\",\"贸易\",\"数字经济\"]\n",
    "#key_set = [\"互联网\",\"数字经济\",\"虚拟\",\"产业园\",\"集聚\",\"定制\",\"微观\"]\n",
    "key_set=[]\n",
    "for index,row in df.iterrows():\n",
    "    flag = False\n",
    "    for s in key_set:\n",
    "        if s in row.Name:\n",
    "            flag=True\n",
    "    if (flag==False) and (int(row.Prize)<=1):\n",
    "        d_answer.loc[len(d_answer.index)] = [row.Name,row.Prize,row.Uni]\n",
    "        str =str + ' ' + tcg(row.Name)\n",
    "d_answer"
   ]
  },
  {
   "cell_type": "code",
   "execution_count": 30,
   "metadata": {},
   "outputs": [],
   "source": [
    "stopwords = set()\n",
    "content = [line.strip() for line in open('hit_stopwords.txt','r').readlines()]\n",
    "stopwords.update(content)\n",
    "stopwords.update(key_set)\n",
    "#停用词"
   ]
  },
  {
   "cell_type": "code",
   "execution_count": 31,
   "metadata": {},
   "outputs": [
    {
     "data": {
      "text/plain": [
       "<wordcloud.wordcloud.WordCloud at 0x1b4e90fafa0>"
      ]
     },
     "execution_count": 31,
     "metadata": {},
     "output_type": "execute_result"
    }
   ],
   "source": [
    "wc = wcd.WordCloud(\n",
    "    background_color='white',\n",
    "    width=1000,\n",
    "    height=800,\n",
    "    stopwords=stopwords,\n",
    "    font_path=\"msyh.ttc\"\n",
    ")\n",
    "wc.generate_from_text(str)#绘制图片\n",
    "wc.to_file('wordcloud.png')"
   ]
  },
  {
   "cell_type": "code",
   "execution_count": null,
   "metadata": {},
   "outputs": [],
   "source": [
    "d_answer.to_csv(\"1.csv\",encoding='utf-8-sig')"
   ]
  }
 ],
 "metadata": {
  "kernelspec": {
   "display_name": "base",
   "language": "python",
   "name": "python3"
  },
  "language_info": {
   "codemirror_mode": {
    "name": "ipython",
    "version": 3
   },
   "file_extension": ".py",
   "mimetype": "text/x-python",
   "name": "python",
   "nbconvert_exporter": "python",
   "pygments_lexer": "ipython3",
   "version": "3.9.13"
  },
  "orig_nbformat": 4,
  "vscode": {
   "interpreter": {
    "hash": "9b43f295cc4b9d5d3a590d55b2f702ca7727d2dff70ed9cae74eb77f96a47717"
   }
  }
 },
 "nbformat": 4,
 "nbformat_minor": 2
}
